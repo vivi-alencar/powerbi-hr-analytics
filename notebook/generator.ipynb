{
  "nbformat": 4,
  "nbformat_minor": 0,
  "metadata": {
    "colab": {
      "provenance": []
    },
    "kernelspec": {
      "name": "python3",
      "display_name": "Python 3"
    },
    "language_info": {
      "name": "python"
    }
  },
  "cells": [
    {
      "cell_type": "code",
      "execution_count": 1,
      "metadata": {
        "colab": {
          "base_uri": "https://localhost:8080/"
        },
        "id": "IYEo46AJd4-G",
        "outputId": "526c3830-0aee-4fcf-faa9-cf3ce5f1baf8"
      },
      "outputs": [
        {
          "output_type": "stream",
          "name": "stdout",
          "text": [
            "Collecting faker\n",
            "  Downloading faker-37.8.0-py3-none-any.whl.metadata (15 kB)\n",
            "Requirement already satisfied: tzdata in /usr/local/lib/python3.12/dist-packages (from faker) (2025.2)\n",
            "Downloading faker-37.8.0-py3-none-any.whl (2.0 MB)\n",
            "\u001b[2K   \u001b[90m━━━━━━━━━━━━━━━━━━━━━━━━━━━━━━━━━━━━━━━━\u001b[0m \u001b[32m2.0/2.0 MB\u001b[0m \u001b[31m18.6 MB/s\u001b[0m eta \u001b[36m0:00:00\u001b[0m\n",
            "\u001b[?25hInstalling collected packages: faker\n",
            "Successfully installed faker-37.8.0\n"
          ]
        }
      ],
      "source": [
        "!pip install faker"
      ]
    },
    {
      "cell_type": "code",
      "source": [
        "import pandas as pd\n",
        "import numpy as np\n",
        "from faker import Faker\n",
        "from datetime import datetime, timedelta, date\n",
        "from calendar import monthrange\n",
        "import random"
      ],
      "metadata": {
        "id": "jpci240TeBZ8"
      },
      "execution_count": 2,
      "outputs": []
    },
    {
      "cell_type": "code",
      "source": [
        "# 1) Instanciar Faker para Brasil e fixar seeds (reprodutibilidade)\n",
        "fake = Faker('pt_BR')\n",
        "Faker.seed(42)\n",
        "np.random.seed(42)\n",
        "random.seed(42)"
      ],
      "metadata": {
        "id": "uIt4fSErfKq5"
      },
      "execution_count": 3,
      "outputs": []
    },
    {
      "cell_type": "code",
      "source": [
        "# 2) Configuração: poucas entradas\n",
        "num_records = 8950"
      ],
      "metadata": {
        "id": "NgC-NIOij3tw"
      },
      "execution_count": 4,
      "outputs": []
    },
    {
      "cell_type": "code",
      "source": [
        "today_dt = datetime.now()\n",
        "today_d = today_dt.date()"
      ],
      "metadata": {
        "id": "EWb2-gKaJVml"
      },
      "execution_count": 5,
      "outputs": []
    },
    {
      "cell_type": "code",
      "source": [
        "# Estados e cidades do Brasil (probabilidades aproximadas, concentrando em SP)\n",
        "states_cities = {\n",
        "    'São Paulo': (['São Paulo', 'Campinas', 'Santos', 'Sorocaba'], [0.60, 0.18, 0.12, 0.10]),\n",
        "    'Rio de Janeiro': (['Rio de Janeiro', 'Niterói', 'Duque de Caxias'], [0.70, 0.18, 0.12]),\n",
        "    'Minas Gerais': (['Belo Horizonte', 'Contagem', 'Uberlândia'], [0.65, 0.18, 0.17]),\n",
        "    'Paraná': (['Curitiba', 'Londrina', 'Maringá'], [0.65, 0.20, 0.15]),\n",
        "    'Rio Grande do Sul': (['Porto Alegre', 'Caxias do Sul', 'Canoas'], [0.65, 0.20, 0.15]),\n",
        "    'Bahia': (['Salvador', 'Feira de Santana', 'Vitória da Conquista'], [0.70, 0.18, 0.12]),\n",
        "    'Pernambuco': (['Recife', 'Olinda', 'Jaboatão dos Guararapes'], [0.65, 0.20, 0.15]),\n",
        "    'Santa Catarina': (['Florianópolis', 'Joinville', 'Blumenau'], [0.55, 0.27, 0.18]),\n",
        "    'Goiás': (['Goiânia', 'Aparecida de Goiânia', 'Anápolis'], [0.65, 0.20, 0.15]),\n",
        "    'Ceará': (['Fortaleza', 'Caucaia', 'Juazeiro do Norte'], [0.70, 0.18, 0.12]),\n",
        "    'Distrito Federal': (['Brasília', 'Taguatinga', 'Gama'], [0.75, 0.15, 0.10]),\n",
        "}\n",
        "states = list(states_cities.keys())"
      ],
      "metadata": {
        "id": "0XM2BnmT5Z7J"
      },
      "execution_count": 6,
      "outputs": []
    },
    {
      "cell_type": "code",
      "source": [
        "# Probabilidade de estado (maior peso em SP e capitais econômicas)\n",
        "state_prob = [0.42, 0.08, 0.08, 0.06, 0.05, 0.05, 0.05, 0.06, 0.05, 0.05, 0.05]\n",
        "state_prob = np.array(state_prob) / np.sum(state_prob)"
      ],
      "metadata": {
        "id": "5zFkH_DeLtox"
      },
      "execution_count": 7,
      "outputs": []
    },
    {
      "cell_type": "code",
      "source": [
        "# ----------------------------\n",
        "# Departamentos, cargos e probabilidades\n",
        "# ----------------------------\n",
        "departments = ['RH', 'TI', 'Vendas', 'Marketing', 'Financeiro', 'Operações', 'Atendimento']\n",
        "departments_prob = [0.03, 0.22, 0.22, 0.08, 0.08, 0.24, 0.13]"
      ],
      "metadata": {
        "id": "oJLnjAN5LuEq"
      },
      "execution_count": 8,
      "outputs": []
    },
    {
      "cell_type": "code",
      "source": [
        "jobtitles = {\n",
        "    'RH': ['Gerente de RH', 'Coordenador de RH', 'Recrutador', 'Assistente de RH'],\n",
        "    'TI': ['Gerente de TI', 'Desenvolvedor de Software', 'Administrador de Sistemas', 'Analista de Suporte'],\n",
        "    'Vendas': ['Gerente de Vendas', 'Consultor de Vendas', 'Especialista de Vendas', 'Representante de Vendas'],\n",
        "    'Marketing': ['Gerente de Marketing', 'Especialista de SEO', 'Criador de Conteúdo', 'Coordenador de Marketing'],\n",
        "    'Financeiro': ['Gerente Financeiro', 'Contador', 'Analista Financeiro', 'Assistente de Contas a Pagar'],\n",
        "    'Operações': ['Gerente de Operações', 'Analista de Operações', 'Coordenador de Logística', 'Especialista de Estoque'],\n",
        "    'Atendimento': ['Gerente de Atendimento', 'Atendente de Suporte', 'Especialista de Suporte', 'Técnico de Help Desk']\n",
        "}"
      ],
      "metadata": {
        "id": "QiDXonp_Lzzr"
      },
      "execution_count": 9,
      "outputs": []
    },
    {
      "cell_type": "code",
      "source": [
        "\n",
        "jobtitles_prob = {\n",
        "    'RH': [0.05, 0.15, 0.40, 0.40], # Menos gerentes, mais recrutadores/assistentes.\n",
        "    'TI': [0.03, 0.60, 0.17, 0.20], # A maior parte desenvolvedores, suporte relevante, poucos gerentes.\n",
        "    'Vendas': [0.03, 0.15, 0.22, 0.60], # Representantes dominam, poucos gerentes.\n",
        "    'Marketing': [0.03, 0.25, 0.47, 0.25], # Mais produtores de conteúdo, poucos gerentes.\n",
        "    'Financeiro': [0.05, 0.35, 0.35, 0.25], # Menos gerentes, balanceado entre analistas e contadores.\n",
        "    'Operações': [0.03, 0.45, 0.10, 0.42], # Maioria no estoque (operacional), poucos coordenadores e gerentes.\n",
        "    'Atendimento': [0.03, 0.22, 0.25, 0.50] # Predominância de atendentes, pirâmide bem clara.\n",
        "}"
      ],
      "metadata": {
        "id": "JN-nLgFnL1-D"
      },
      "execution_count": 10,
      "outputs": []
    },
    {
      "cell_type": "code",
      "source": [
        "# Escolaridade\n",
        "educations = ['Ensino Médio', 'Graduação', 'Mestrado', 'Doutorado']"
      ],
      "metadata": {
        "id": "KkJZ1oF_L4JF"
      },
      "execution_count": 11,
      "outputs": []
    },
    {
      "cell_type": "code",
      "source": [
        "# Mapeamento cargo -> possíveis escolaridades (valores em português)\n",
        "education_mapping = {\n",
        "    'Gerente de RH': ['Mestrado', 'Doutorado'],\n",
        "    'Coordenador de RH': ['Graduação', 'Mestrado'],\n",
        "    'Recrutador': ['Ensino Médio', 'Graduação'],\n",
        "    'Assistente de RH': ['Ensino Médio', 'Graduação'],\n",
        "    'Gerente de TI': ['Mestrado', 'Doutorado'],\n",
        "    'Desenvolvedor de Software': ['Graduação', 'Mestrado'],\n",
        "    'Administrador de Sistemas': ['Graduação', 'Mestrado'],\n",
        "    'Analista de Suporte': ['Ensino Médio', 'Graduação'],\n",
        "    'Gerente de Vendas': ['Mestrado', 'Doutorado'],\n",
        "    'Consultor de Vendas': ['Graduação', 'Mestrado', 'Doutorado'],\n",
        "    'Especialista de Vendas': ['Graduação', 'Mestrado', 'Doutorado'],\n",
        "    'Representante de Vendas': ['Graduação'],\n",
        "    'Gerente de Marketing': ['Graduação', 'Mestrado', 'Doutorado'],\n",
        "    'Especialista de SEO': ['Ensino Médio', 'Graduação'],\n",
        "    'Criador de Conteúdo': ['Ensino Médio', 'Graduação'],\n",
        "    'Coordenador de Marketing': ['Graduação'],\n",
        "    'Gerente Financeiro': ['Mestrado', 'Doutorado'],\n",
        "    'Contador': ['Graduação'],\n",
        "    'Analista Financeiro': ['Graduação', 'Mestrado', 'Doutorado'],\n",
        "    'Assistente de Contas a Pagar': ['Graduação'],\n",
        "    'Gerente de Operações': ['Graduação', 'Mestrado'],\n",
        "    'Analista de Operações': ['Graduação', 'Mestrado'],\n",
        "    'Coordenador de Logística': ['Graduação'],\n",
        "    'Especialista de Estoque': ['Ensino Médio', 'Graduação'],\n",
        "    'Gerente de Atendimento': ['Graduação', 'Mestrado', 'Doutorado'],\n",
        "    'Atendente de Suporte': ['Ensino Médio', 'Graduação'],\n",
        "    'Especialista de Suporte': ['Ensino Médio', 'Graduação'],\n",
        "    'Técnico de Help Desk': ['Ensino Médio', 'Graduação']\n",
        "}\n"
      ],
      "metadata": {
        "id": "b8KKByAJL63h"
      },
      "execution_count": 12,
      "outputs": []
    },
    {
      "cell_type": "code",
      "source": [
        "# ----------------------------\n",
        "# Datas de admissão (pesos por ano; recência)\n",
        "# ----------------------------\n",
        "year_weights_hire = {\n",
        "    2016: 6,\n",
        "    2017: 10,\n",
        "    2018: 12,\n",
        "    2019: 12,\n",
        "    2020: 9,\n",
        "    2021: 10,\n",
        "    2022: 14,\n",
        "    2023: 14,\n",
        "    2024: 8,\n",
        "    2025: 5\n",
        "}"
      ],
      "metadata": {
        "id": "5SZD8SOwL9ZE"
      },
      "execution_count": 13,
      "outputs": []
    },
    {
      "cell_type": "code",
      "source": [
        "def years_between(a: date, b: date) -> int:\n",
        "    return b.year - a.year - ((b.month, b.day) < (a.month, a.day))"
      ],
      "metadata": {
        "id": "ph_sBhg1RC7e"
      },
      "execution_count": 14,
      "outputs": []
    },
    {
      "cell_type": "code",
      "source": [
        "def generate_custom_date(year_weights):\n",
        "    \"\"\"Gera uma data dentro de um ano escolhido por pesos e nunca no futuro.\"\"\"\n",
        "    year = random.choices(list(year_weights.keys()), weights=list(year_weights.values()))[0]\n",
        "    start = datetime(year, 1, 1)\n",
        "    end = datetime(year, 12, 31)\n",
        "    dt = fake.date_time_between(start_date=start, end_date=end)\n",
        "    return min(dt, today_dt)  # nunca no futuro"
      ],
      "metadata": {
        "id": "aRb6WRHMMAIj"
      },
      "execution_count": 15,
      "outputs": []
    },
    {
      "cell_type": "code",
      "source": [
        "# ----------------------------\n",
        "# Faixas salariais mensais por cargo (valores aproximados BR; numéricos, sem \"R$\")\n",
        "# ----------------------------\n",
        "def generate_salary(department, job_title):\n",
        "    # valores em reais/mês (aproximados)\n",
        "    salary_dict = {\n",
        "        'RH': {\n",
        "            'Gerente de RH': np.random.randint(15000, 28000),\n",
        "            'Coordenador de RH': np.random.randint(9000, 15000),\n",
        "            'Recrutador': np.random.randint(4000, 9000),\n",
        "            'Assistente de RH': np.random.randint(3000, 6000)\n",
        "        },\n",
        "        'TI': {\n",
        "            'Gerente de TI': np.random.randint(22000, 35000),\n",
        "            'Desenvolvedor de Software': np.random.randint(8000, 18000),\n",
        "            'Administrador de Sistemas': np.random.randint(9000, 17000),\n",
        "            'Analista de Suporte': np.random.randint(3500, 7500)\n",
        "        },\n",
        "        'Vendas': {\n",
        "            'Gerente de Vendas': np.random.randint(14000, 26000),\n",
        "            'Consultor de Vendas': np.random.randint(6000, 14000),\n",
        "            'Especialista de Vendas': np.random.randint(7000, 15000),\n",
        "            'Representante de Vendas': np.random.randint(4500, 9000)\n",
        "        },\n",
        "        'Marketing': {\n",
        "            'Gerente de Marketing': np.random.randint(13000, 24000),\n",
        "            'Especialista de SEO': np.random.randint(5000, 11000),\n",
        "            'Criador de Conteúdo': np.random.randint(3500, 8000),\n",
        "            'Coordenador de Marketing': np.random.randint(8000, 14000)\n",
        "        },\n",
        "        'Financeiro': {\n",
        "            'Gerente Financeiro': np.random.randint(18000, 32000),\n",
        "            'Contador': np.random.randint(7000, 14000),\n",
        "            'Analista Financeiro': np.random.randint(8000, 17000),\n",
        "            'Assistente de Contas a Pagar': np.random.randint(4000, 7500)\n",
        "        },\n",
        "        'Operações': {\n",
        "            'Gerente de Operações': np.random.randint(14000, 26000),\n",
        "            'Analista de Operações': np.random.randint(7000, 14000),\n",
        "            'Coordenador de Logística': np.random.randint(8000, 15000),\n",
        "            'Especialista de Estoque': np.random.randint(3500, 7000)\n",
        "        },\n",
        "        'Atendimento': {\n",
        "            'Gerente de Atendimento': np.random.randint(12000, 22000),\n",
        "            'Atendente de Suporte': np.random.randint(2500, 5000),\n",
        "            'Especialista de Suporte': np.random.randint(3500, 7000),\n",
        "            'Técnico de Help Desk': np.random.randint(3500, 9000)\n",
        "        }\n",
        "    }\n",
        "    return salary_dict[department][job_title]\n"
      ],
      "metadata": {
        "id": "s5bvtdvyMB-j"
      },
      "execution_count": 16,
      "outputs": []
    },
    {
      "cell_type": "code",
      "source": [
        "# ----------------------------\n",
        "# Geração de IDs únicos\n",
        "# ----------------------------\n",
        "used_ids = set()\n",
        "def make_employee_id():\n",
        "    # padrão fictício BR\n",
        "    while True:\n",
        "        eid = f\"BR-{random.randint(10_000_000, 99_999_999)}\"\n",
        "        if eid not in used_ids:\n",
        "            used_ids.add(eid)\n",
        "            return eid"
      ],
      "metadata": {
        "id": "PASJPbIjME2q"
      },
      "execution_count": 17,
      "outputs": []
    },
    {
      "cell_type": "code",
      "source": [
        "# ----------------------------\n",
        "# Geração dos dados principais\n",
        "# ----------------------------\n",
        "data = []\n",
        "for _ in range(num_records):\n",
        "    employee_id = make_employee_id()\n",
        "    # Gera gênero primeiro\n",
        "    gender = np.random.choice(['Feminino', 'Masculino'], p=[0.48, 0.52])\n",
        "\n",
        "# Gera nome compatível com o gênero\n",
        "    if gender == 'Feminino':\n",
        "        first_name = fake.first_name_female()\n",
        "        last_name = fake.last_name()  # sobrenomes neutros em PT-BR\n",
        "    else:\n",
        "        first_name = fake.first_name_male()\n",
        "        last_name = fake.last_name()\n",
        "\n",
        "    state = np.random.choice(states, p=state_prob)\n",
        "    cities, city_p = states_cities[state]\n",
        "    city = np.random.choice(cities, p=city_p)\n",
        "\n",
        "    hiredate = generate_custom_date(year_weights_hire)\n",
        "\n",
        "    department = np.random.choice(departments, p=departments_prob)\n",
        "    job_title = np.random.choice(jobtitles[department], p=jobtitles_prob[department])\n",
        "\n",
        "    education_level = np.random.choice(education_mapping[job_title])\n",
        "\n",
        "    performance_rating = np.random.choice(\n",
        "        ['Excelente', 'Bom', 'Satisfatório', 'Precisa Melhorar'],\n",
        "        p=[0.14, 0.50, 0.28, 0.08]\n",
        "    )\n",
        "    # overtime pode variar por departamento (ex.: maior em Operações/Atendimento)\n",
        "    overtime_probs = {\n",
        "        'RH': 0.18, 'TI': 0.28, 'Vendas': 0.22, 'Marketing': 0.20,\n",
        "        'Financeiro': 0.24, 'Operações': 0.38, 'Atendimento': 0.34\n",
        "    }\n",
        "    overtime = np.random.choice(['Sim', 'Não'], p=[overtime_probs[department], 1 - overtime_probs[department]])\n",
        "\n",
        "    salary = generate_salary(department, job_title)\n",
        "\n",
        "    data.append([\n",
        "        employee_id, first_name, last_name, gender, state, city, hiredate,\n",
        "        department, job_title, education_level, salary, performance_rating, overtime\n",
        "    ])\n",
        "\n",
        "columns = [\n",
        "    'employee_id', 'first_name', 'last_name', 'gender',\n",
        "    'state', 'city', 'hiredate',\n",
        "    'department', 'job_title', 'education_level',\n",
        "    'salary', 'performance_rating', 'overtime'\n",
        "]\n",
        "df = pd.DataFrame(data, columns=columns)"
      ],
      "metadata": {
        "id": "qe8WxJfjMGnn"
      },
      "execution_count": 18,
      "outputs": []
    },
    {
      "cell_type": "code",
      "source": [
        "# ----------------------------\n",
        "# Data de nascimento (regras simples de coerência)\n",
        "# ----------------------------\n",
        "def _clamp_day(year: int, month: int, day: int) -> int:\n",
        "    \"\"\"Devolve um dia válido (<= último dia do mês/ano).\"\"\"\n",
        "    return min(day, monthrange(year, month)[1])\n",
        "\n",
        "def generate_birthdate(row):\n",
        "    # idade mínima na admissão\n",
        "    min_age_at_hire = 25 if 'Gerente' in row['job_title'] else 18\n",
        "\n",
        "    hire_d = pd.to_datetime(row['hiredate']).date()\n",
        "    # data máxima permitida p/ nascer (para ter a idade mínima na admissão)\n",
        "    y = hire_d.year - min_age_at_hire\n",
        "    m = hire_d.month\n",
        "    d = _clamp_day(y, m, hire_d.day)  # evita 29/02 em ano não bissexto e 31 em meses de 30\n",
        "    latest_birth_allowed = date(y, m, d)\n",
        "\n",
        "    # distribuição/heurística de idades (como você já tinha)\n",
        "    age_distribution = {'under_25': 0.10, '25_34': 0.28, '35_44': 0.32, '45_54': 0.20, 'over_55': 0.10}\n",
        "    age_group = np.random.choice(list(age_distribution.keys()), p=list(age_distribution.values()))\n",
        "\n",
        "    if 'Gerente' in row['job_title']:\n",
        "        target_age_today = np.random.randint(30, 66)\n",
        "    elif row['education_level'] == 'Doutorado':\n",
        "        target_age_today = np.random.randint(27, 66)\n",
        "    elif age_group == 'under_25':\n",
        "        target_age_today = np.random.randint(20, 25)\n",
        "    elif age_group == '25_34':\n",
        "        target_age_today = np.random.randint(25, 35)\n",
        "    elif age_group == '35_44':\n",
        "        target_age_today = np.random.randint(35, 45)\n",
        "    elif age_group == '45_54':\n",
        "        target_age_today = np.random.randint(45, 55)\n",
        "    else:\n",
        "        target_age_today = np.random.randint(56, 66)\n",
        "\n",
        "    # converte \"idade alvo hoje\" em data de nascimento, com clamp de dia\n",
        "    today_d = pd.Timestamp('today').date()\n",
        "    yt = today_d.year - target_age_today\n",
        "    mt = today_d.month\n",
        "    dt = _clamp_day(yt, mt, today_d.day)\n",
        "    tentative_birth = date(yt, mt, dt)\n",
        "\n",
        "    # garante a idade mínima na admissão\n",
        "    if tentative_birth > latest_birth_allowed:\n",
        "        tentative_birth = latest_birth_allowed\n",
        "\n",
        "    return tentative_birth"
      ],
      "metadata": {
        "id": "RS3flNSCMJ_E"
      },
      "execution_count": 19,
      "outputs": []
    },
    {
      "cell_type": "code",
      "source": [
        "df['birthdate'] = df.apply(generate_birthdate, axis=1)"
      ],
      "metadata": {
        "id": "P7BFRt-gRMc1"
      },
      "execution_count": 20,
      "outputs": []
    },
    {
      "cell_type": "code",
      "source": [
        "# ----------------------------\n",
        "# Demissões (termdate) com coerência de ≥ 6 meses de casa\n",
        "# ----------------------------\n",
        "termination_percentage = 0.115  # ~11,5%\n",
        "\n",
        "year_weights_term = {\n",
        "    2017: 7,\n",
        "    2018: 10,\n",
        "    2019: 11,\n",
        "    2020: 15,   # pico pandêmico\n",
        "    2021: 13,\n",
        "    2022: 14,\n",
        "    2023: 12,\n",
        "    2024: 10,\n",
        "    2025: 8\n",
        "}"
      ],
      "metadata": {
        "id": "hLIGU9uPO3JU"
      },
      "execution_count": 21,
      "outputs": []
    },
    {
      "cell_type": "code",
      "source": [
        "# elegíveis: hiredate + 180d <= hoje\n",
        "df['hiredate'] = pd.to_datetime(df['hiredate']).dt.date\n",
        "elig_mask = pd.to_datetime(df['hiredate']) + pd.to_timedelta(180, unit='D') <= pd.Timestamp(today_d)\n",
        "eligible_idx = df.index[elig_mask]\n",
        "\n",
        "total_terminated = int(round(len(df) * termination_percentage))\n",
        "total_terminated = min(total_terminated, len(eligible_idx))  # segurança"
      ],
      "metadata": {
        "id": "RrQiu8_7PAC7"
      },
      "execution_count": 22,
      "outputs": []
    },
    {
      "cell_type": "code",
      "source": [
        "# amostra de índices elegíveis\n",
        "terminated_indices = np.random.choice(eligible_idx, size=total_terminated, replace=False)\n",
        "\n",
        "# sorteia anos de demissão pelos pesos\n",
        "years = list(year_weights_term.keys())\n",
        "weights = np.array(list(year_weights_term.values()), dtype=float)\n",
        "weights = weights / weights.sum()\n",
        "termination_years = np.random.choice(years, size=total_terminated, p=weights, replace=True)"
      ],
      "metadata": {
        "id": "Nts3eIiCPCMq"
      },
      "execution_count": 23,
      "outputs": []
    },
    {
      "cell_type": "code",
      "source": [
        "df['termdate'] = pd.NaT  # NaT para ativos\n"
      ],
      "metadata": {
        "id": "u7veIdfbPELa"
      },
      "execution_count": 24,
      "outputs": []
    },
    {
      "cell_type": "code",
      "source": [
        "for idx, year in zip(terminated_indices, termination_years):\n",
        "    # janela aleatória dentro do ano de demissão\n",
        "    raw_term = datetime(year, 1, 1) + timedelta(days=random.randint(0, 364))\n",
        "    min_term = pd.Timestamp(df.at[idx, 'hiredate']) + pd.Timedelta(days=180)\n",
        "    term_final = max(pd.Timestamp(raw_term), min_term)\n",
        "\n",
        "    # evita futuro\n",
        "    if term_final > pd.Timestamp(today_d):\n",
        "        term_final = pd.Timestamp(today_d)\n",
        "\n",
        "    df.at[idx, 'termdate'] = term_final\n"
      ],
      "metadata": {
        "id": "IyRORE9HPGbq"
      },
      "execution_count": 25,
      "outputs": []
    },
    {
      "cell_type": "code",
      "source": [
        "# ----------------------------\n",
        "# Ajuste salarial por escolaridade e tenure (anos de casa)\n",
        "# ----------------------------\n",
        "# multiplicadores por escolaridade (neutro por gênero)\n",
        "education_multiplier = {\n",
        "    'Ensino Médio': 1.00,\n",
        "    'Graduação': 1.08,\n",
        "    'Mestrado': 1.16,\n",
        "    'Doutorado': 1.28\n",
        "}"
      ],
      "metadata": {
        "id": "DucAy9YwPIyJ"
      },
      "execution_count": 26,
      "outputs": []
    },
    {
      "cell_type": "code",
      "source": [
        "def calculate_adjusted_salary(row):\n",
        "    base_salary = row['salary']\n",
        "    mult = education_multiplier.get(row['education_level'], 1.0)\n",
        "    adjusted = base_salary * mult\n",
        "\n",
        "    tenure_years = years_between(row['hiredate'], today_d)\n",
        "\n",
        "    # incremento por tenure: 0,3% a 0,7% ao ano de casa\n",
        "    tenure_increment = 1 + np.random.uniform(0.003, 0.007) * max(0, tenure_years)\n",
        "    adjusted *= tenure_increment\n",
        "\n",
        "    return int(round(max(adjusted, base_salary)))"
      ],
      "metadata": {
        "id": "b2vPtnUuPKoT"
      },
      "execution_count": 27,
      "outputs": []
    },
    {
      "cell_type": "code",
      "source": [
        "df['salary'] = df.apply(calculate_adjusted_salary, axis=1)"
      ],
      "metadata": {
        "id": "0iZyzFSJPMqD"
      },
      "execution_count": 28,
      "outputs": []
    },
    {
      "cell_type": "code",
      "source": [
        "# ----------------------------\n",
        "# Conversões finais e colunas úteis para o BI\n",
        "# ----------------------------\n",
        "df['birthdate'] = pd.to_datetime(df['birthdate']).dt.date\n",
        "df['termdate'] = pd.to_datetime(df['termdate']).dt.date\n",
        "\n",
        "df['is_active'] = df['termdate'].isna()\n",
        "df['tenure_years'] = df.apply(lambda r: years_between(r['hiredate'], today_d), axis=1)\n",
        "df['salary_annual_13x'] = df['salary'] * 13  # anual considerando 13º\n",
        "df['seniority_band'] = pd.cut(\n",
        "    df['tenure_years'],\n",
        "    bins=[-1, 1, 3, 6, 100],\n",
        "    labels=['0–1', '1–3', '3–6', '6+']\n",
        ")\n"
      ],
      "metadata": {
        "id": "i3ApRe6YPOWi"
      },
      "execution_count": 29,
      "outputs": []
    },
    {
      "cell_type": "code",
      "source": [
        "# mapa simples de estado -> UF\n",
        "state_to_uf = {\n",
        "    'São Paulo': 'SP', 'Rio de Janeiro': 'RJ', 'Minas Gerais': 'MG', 'Paraná': 'PR',\n",
        "    'Rio Grande do Sul': 'RS', 'Bahia': 'BA', 'Pernambuco': 'PE', 'Santa Catarina': 'SC',\n",
        "    'Goiás': 'GO', 'Ceará': 'CE', 'Distrito Federal': 'DF'\n",
        "}\n",
        "df['state_code'] = df['state'].map(state_to_uf)"
      ],
      "metadata": {
        "id": "mpaCgMueTD6-"
      },
      "execution_count": 30,
      "outputs": []
    },
    {
      "cell_type": "code",
      "source": [
        "# ----------------------------\n",
        "# Amostra e exportação\n",
        "# ----------------------------\n",
        "print(df.head())"
      ],
      "metadata": {
        "colab": {
          "base_uri": "https://localhost:8080/"
        },
        "id": "V7Nx5NNOPQZy",
        "outputId": "181d61f0-1b8e-426e-e4a6-b9531749c5e3"
      },
      "execution_count": 31,
      "outputs": [
        {
          "output_type": "stream",
          "name": "stdout",
          "text": [
            "   employee_id   first_name last_name     gender             state       city  \\\n",
            "0  BR-95822412       Brenda     Alves   Feminino  Distrito Federal   Brasília   \n",
            "1  BR-46913810      Joaquim    Câmara  Masculino         São Paulo   Campinas   \n",
            "2  BR-28728463         Cauã     Rocha  Masculino            Paraná    Maringá   \n",
            "3  BR-83197857         Yago    Borges  Masculino            Paraná   Curitiba   \n",
            "4  BR-66629388  Ana Beatriz     Alves   Feminino         São Paulo  São Paulo   \n",
            "\n",
            "     hiredate  department                  job_title education_level  salary  \\\n",
            "0  2017-09-27  Financeiro                   Contador       Graduação    8293   \n",
            "1  2018-02-20          TI  Desenvolvedor de Software        Mestrado   17042   \n",
            "2  2023-09-27          TI  Desenvolvedor de Software       Graduação   13973   \n",
            "3  2017-08-03          TI  Desenvolvedor de Software        Mestrado   10116   \n",
            "4  2016-02-04          TI        Analista de Suporte    Ensino Médio    7124   \n",
            "\n",
            "  performance_rating overtime   birthdate termdate  is_active  tenure_years  \\\n",
            "0                Bom      Sim  1969-09-30      NaT       True             8   \n",
            "1   Precisa Melhorar      Não  1982-09-30      NaT       True             7   \n",
            "2   Precisa Melhorar      Não  1972-09-30      NaT       True             2   \n",
            "3       Satisfatório      Não  1975-09-30      NaT       True             8   \n",
            "4                Bom      Sim  1994-09-30      NaT       True             9   \n",
            "\n",
            "   salary_annual_13x seniority_band state_code  \n",
            "0             107809             6+         DF  \n",
            "1             221546             6+         SP  \n",
            "2             181649            1–3         PR  \n",
            "3             131508             6+         PR  \n",
            "4              92612             6+         SP  \n"
          ]
        }
      ]
    },
    {
      "cell_type": "code",
      "source": [
        "mask = df['termdate'].notna()\n",
        "\n",
        "ok_term_6m = (\n",
        "    pd.to_datetime(df.loc[mask, 'termdate']) >=\n",
        "    pd.to_datetime(df.loc[mask, 'hiredate']) + pd.Timedelta(days=180)\n",
        ").all()\n",
        "\n",
        "ok_term_6m"
      ],
      "metadata": {
        "colab": {
          "base_uri": "https://localhost:8080/"
        },
        "id": "uM52hapdR9nc",
        "outputId": "68a7ef25-cf7f-4ad1-ce18-87ee0f424fca"
      },
      "execution_count": 32,
      "outputs": [
        {
          "output_type": "execute_result",
          "data": {
            "text/plain": [
              "np.True_"
            ]
          },
          "metadata": {},
          "execution_count": 32
        }
      ]
    },
    {
      "cell_type": "code",
      "source": [
        "violations = df.loc[\n",
        "    mask & (\n",
        "        pd.to_datetime(df['termdate']) <\n",
        "        pd.to_datetime(df['hiredate']) + pd.Timedelta(days=180)\n",
        "    ),\n",
        "    ['employee_id', 'hiredate', 'termdate', 'department', 'job_title']\n",
        "]\n",
        "violations.head(10), len(violations)"
      ],
      "metadata": {
        "colab": {
          "base_uri": "https://localhost:8080/"
        },
        "id": "TZZ2lawbSeSK",
        "outputId": "3eace00d-15b0-47eb-a966-d7e13f81b21d"
      },
      "execution_count": 33,
      "outputs": [
        {
          "output_type": "execute_result",
          "data": {
            "text/plain": [
              "(Empty DataFrame\n",
              " Columns: [employee_id, hiredate, termdate, department, job_title]\n",
              " Index: [],\n",
              " 0)"
            ]
          },
          "metadata": {},
          "execution_count": 33
        }
      ]
    },
    {
      "cell_type": "code",
      "source": [
        "check_min_age = (\n",
        "    (pd.to_datetime(df['hiredate']) - pd.to_datetime(df['birthdate'])).dt.days >= 18*365\n",
        ").all()\n",
        "check_min_age_ger = (\n",
        "    ((~df['job_title'].str.contains('Gerente')) |\n",
        "     ((pd.to_datetime(df['hiredate']) - pd.to_datetime(df['birthdate'])).dt.days >= 25*365))\n",
        ").all()\n",
        "print({'idade_minima_18': check_min_age, 'idade_minima_gerente_25': check_min_age_ger})"
      ],
      "metadata": {
        "colab": {
          "base_uri": "https://localhost:8080/"
        },
        "id": "czV8a9GuSooK",
        "outputId": "95cb1a2a-edb4-4a0f-f95e-a73e7c25a7da"
      },
      "execution_count": 34,
      "outputs": [
        {
          "output_type": "stream",
          "name": "stdout",
          "text": [
            "{'idade_minima_18': np.True_, 'idade_minima_gerente_25': np.True_}\n"
          ]
        }
      ]
    },
    {
      "cell_type": "code",
      "source": [
        "# Guards finais\n",
        "age_at_hire_days = (pd.to_datetime(df['hiredate']) - pd.to_datetime(df['birthdate'])).dt.days\n",
        "assert (age_at_hire_days >= 18*365).all()\n",
        "assert (\n",
        "    (~df['job_title'].str.contains('Gerente')) | (age_at_hire_days >= 25*365)\n",
        ").all()"
      ],
      "metadata": {
        "id": "yON4-kBMTOlM"
      },
      "execution_count": 35,
      "outputs": []
    },
    {
      "cell_type": "code",
      "source": [
        "# nome de arquivo\n",
        "df.to_csv('RecursosHumanos_BR.csv', index=False)"
      ],
      "metadata": {
        "id": "EvhJEdG5PS06"
      },
      "execution_count": 36,
      "outputs": []
    },
    {
      "cell_type": "code",
      "source": [],
      "metadata": {
        "id": "LzAZ6wtZXspq"
      },
      "execution_count": 36,
      "outputs": []
    }
  ]
}